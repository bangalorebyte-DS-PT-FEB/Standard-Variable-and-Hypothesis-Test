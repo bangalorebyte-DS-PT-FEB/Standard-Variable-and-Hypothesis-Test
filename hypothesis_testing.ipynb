{
 "cells": [
  {
   "cell_type": "code",
   "execution_count": null,
   "metadata": {},
   "outputs": [],
   "source": [
    "import random\n",
    "import scipy.stats as stats\n",
    "import numpy as np\n",
    "\n",
    "\n",
    "byte_scores = random.sample(range(5,50),25)\n",
    "upgrad_score = random.sample(range(0,50),25)\n",
    "\n",
    "byte_score_mean=np.mean(byte_scores)\n",
    "print(byte_score_mean)\n",
    "\n",
    "upgrad_score_mean=np.mean(upgrad_score)\n",
    "print(upgrad_score_mean)\n"
   ]
  },
  {
   "cell_type": "markdown",
   "metadata": {},
   "source": [
    "1. Null and alternate hypothesis\n",
    "Null Hypothesis(mean of byte_score) 28.24, Alternate Hypothesis(mean of upgrad score) 26.8\n",
    "It is two tailed test as null and alternate hypothesis are not equal\n",
    "\n",
    "2. t should be calculated using a function"
   ]
  },
  {
   "cell_type": "code",
   "execution_count": null,
   "metadata": {},
   "outputs": [],
   "source": [
    "ttest=stats.ttest_ind(byte_scores,upgrad_score,axis=0,equal_var=True)\n",
    "print(ttest)\n",
    "#t=0.37, p=0.70"
   ]
  },
  {
   "cell_type": "markdown",
   "metadata": {},
   "source": [
    "since p value >0.05 is not statistically significantly different\n",
    "High p failed to reject null"
   ]
  },
  {
   "cell_type": "code",
   "execution_count": null,
   "metadata": {},
   "outputs": [],
   "source": [
    "N1=25\n",
    "N2=25\n",
    "#degree of freedom\n",
    "#25+25-2=48\n",
    "df=N1+N2-2"
   ]
  },
  {
   "cell_type": "markdown",
   "metadata": {},
   "source": [
    "Indentify ctitical t using t table df=48,p=0.05/2=.025\n",
    "t critical=2.31\n",
    "\n",
    "tvalue<tcritical dont reject null hypothesis\n",
    "tvalue>tcritical reject null hypothesis\n",
    "\n",
    "#3.\n",
    "Since tvalue 1.36<2.31 we dont reject null hypothesis\n"
   ]
  }
 ],
 "metadata": {
  "kernelspec": {
   "display_name": "Python 3",
   "language": "python",
   "name": "python3"
  },
  "language_info": {
   "codemirror_mode": {
    "name": "ipython",
    "version": 3
   },
   "file_extension": ".py",
   "mimetype": "text/x-python",
   "name": "python",
   "nbconvert_exporter": "python",
   "pygments_lexer": "ipython3",
   "version": "3.5.2"
  }
 },
 "nbformat": 4,
 "nbformat_minor": 2
}
